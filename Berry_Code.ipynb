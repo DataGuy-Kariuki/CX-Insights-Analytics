{
  "nbformat": 4,
  "nbformat_minor": 0,
  "metadata": {
    "colab": {
      "private_outputs": true,
      "provenance": [],
      "authorship_tag": "ABX9TyOax7bu+lmUlS+pHsqSniT/",
      "include_colab_link": true
    },
    "kernelspec": {
      "name": "python3",
      "display_name": "Python 3"
    },
    "language_info": {
      "name": "python"
    }
  },
  "cells": [
    {
      "cell_type": "markdown",
      "metadata": {
        "id": "view-in-github",
        "colab_type": "text"
      },
      "source": [
        "<a href=\"https://colab.research.google.com/github/DataGuy-Kariuki/CX-Insights-Analytics/blob/main/Berry_Code.ipynb\" target=\"_parent\"><img src=\"https://colab.research.google.com/assets/colab-badge.svg\" alt=\"Open In Colab\"/></a>"
      ]
    },
    {
      "cell_type": "code",
      "execution_count": null,
      "metadata": {
        "id": "KqKaQc8B9RHx"
      },
      "outputs": [],
      "source": [
        "# Install dependencies if not installed\n",
        "!pip install geopy pandas\n",
        "\n",
        "import pandas as pd\n",
        "from geopy.geocoders import Nominatim\n",
        "from geopy.exc import GeocoderTimedOut\n",
        "\n",
        "# Initialize the geolocator\n",
        "geolocator = Nominatim(user_agent=\"geo_locator_kenya\")\n",
        "\n",
        "def find_location_details(lat, long):\n",
        "    \"\"\"\n",
        "    Get location details (name, region, state) from latitude and longitude.\n",
        "    Handles errors gracefully.\n",
        "    \"\"\"\n",
        "    try:\n",
        "        loc = geolocator.reverse((lat, long), exactly_one=True, addressdetails=True)\n",
        "        if loc is None:\n",
        "            return \"Unknown\", \"Unknown\", \"Unknown\"\n",
        "\n",
        "        address = loc.raw.get('address', {})\n",
        "\n",
        "        display_name = loc.raw.get('display_name', 'Unknown')\n",
        "        region = address.get('state_district', address.get('region', 'Unknown'))\n",
        "        state = address.get('state', address.get('county', address.get('city', 'Unknown')))\n",
        "\n",
        "        return display_name, region, state\n",
        "    except GeocoderTimedOut:\n",
        "        return \"Timeout\", \"Timeout\", \"Timeout\"\n",
        "    except Exception as e:\n",
        "        return f\"Error: {e}\", \"Error\", \"Error\""
      ]
    },
    {
      "cell_type": "code",
      "source": [
        "#read information about uses\n",
        "user_location = pd.read_csv(\"/content/last data 2022.csv\")\n",
        "user_location.head()"
      ],
      "metadata": {
        "id": "iTeOORUR9hX7"
      },
      "execution_count": null,
      "outputs": []
    },
    {
      "cell_type": "code",
      "source": [
        "# read the other data\n",
        "#df_loan = pd.read_excel(\"/content/loan by status 2.xlsx\")\n",
        "#df_loan.head()"
      ],
      "metadata": {
        "id": "tLmJSZWgGr4t"
      },
      "execution_count": null,
      "outputs": []
    },
    {
      "cell_type": "code",
      "source": [
        "#df_loan.describe().T"
      ],
      "metadata": {
        "id": "q_tTd5oUGz4O"
      },
      "execution_count": null,
      "outputs": []
    },
    {
      "cell_type": "code",
      "source": [
        "#df_loan.info()"
      ],
      "metadata": {
        "id": "EXj_bnW0G7a5"
      },
      "execution_count": null,
      "outputs": []
    },
    {
      "cell_type": "code",
      "source": [
        "user_location.info()"
      ],
      "metadata": {
        "id": "j1_1mpZ6HDQj"
      },
      "execution_count": null,
      "outputs": []
    },
    {
      "cell_type": "code",
      "source": [
        "# convert the phone number to integers\n",
        "user_location['Phone Number'] = user_location['Phone Number'].astype(\"int64\")"
      ],
      "metadata": {
        "id": "mWsnj-E9HJ9l"
      },
      "execution_count": null,
      "outputs": []
    },
    {
      "cell_type": "code",
      "source": [
        "# check if there are numbers with no location information\n",
        "#[x for x in df_loan['Phone Number'].unique().tolist() if  x not in user_location[\"Phone Number\"].unique().tolist()]"
      ],
      "metadata": {
        "id": "nSTIsjT_HMIk"
      },
      "execution_count": null,
      "outputs": []
    },
    {
      "cell_type": "code",
      "source": [
        "# dwop unnamed\n",
        "#user_location.drop('Unnamed: 0', axis=1,inplace=True)"
      ],
      "metadata": {
        "id": "Yv0Fk5PmHQlY"
      },
      "execution_count": null,
      "outputs": []
    },
    {
      "cell_type": "code",
      "source": [
        "# Load the data (ensure you have a CSV with 'Latitude' and 'Longitude' columns)\n",
        "user_location_2 = pd.read_csv(\"/content/last data 2022.csv\")  # Replace with your actual file\n",
        "\n",
        "# Apply the function to the dataset\n",
        "user_location_2[['name', 'region', 'state']] = user_location.apply(\n",
        "    lambda row: pd.Series(find_location_details(row['Latitude'], row['Longitude'])), axis=1\n",
        ")\n",
        "\n",
        "# Save results\n",
        "user_location_2.to_csv(\"locations_2022 FINAL.csv\", index=False)\n",
        "\n",
        "# Show sample output\n",
        "user_location_2.head()"
      ],
      "metadata": {
        "id": "WOerwbbJHV-P"
      },
      "execution_count": null,
      "outputs": []
    }
  ]
}