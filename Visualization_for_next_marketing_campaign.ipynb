{
  "nbformat": 4,
  "nbformat_minor": 0,
  "metadata": {
    "colab": {
      "private_outputs": true,
      "provenance": [],
      "authorship_tag": "ABX9TyOihnWlNIqzsPRaoYNImutO",
      "include_colab_link": true
    },
    "kernelspec": {
      "name": "python3",
      "display_name": "Python 3"
    },
    "language_info": {
      "name": "python"
    }
  },
  "cells": [
    {
      "cell_type": "markdown",
      "metadata": {
        "id": "view-in-github",
        "colab_type": "text"
      },
      "source": [
        "<a href=\"https://colab.research.google.com/github/DataGuy-Kariuki/CX-Insights-Analytics/blob/main/Visualization_for_next_marketing_campaign.ipynb\" target=\"_parent\"><img src=\"https://colab.research.google.com/assets/colab-badge.svg\" alt=\"Open In Colab\"/></a>"
      ]
    },
    {
      "cell_type": "markdown",
      "source": [
        "## Visualization for next marketing campaign\n",
        "\n",
        "📖 Background\n",
        "You are a data analyst at a crowdfunding site.\n",
        "\n",
        " For the next quarter, your company will be running a marketing campaign. The marketing manager wants to target those segments that have donated the most in the past year. She turned to you to help her with her upcoming meeting with the CEO.\n",
        "\n",
        "\n",
        "💾 The data\n",
        "You have access to the following information:\n",
        "\n",
        "Historic crowdfunding donations\n",
        "- \"category\" - \"Sports\", \"Fashion\", \"Technology\", etc.\n",
        "- \"device\" - the type of device used.\n",
        "- \"gender\" - gender of the user.\n",
        "- \"age range\" - one of five age brackets.\n",
        "- \"amount\" - how much the user donated in Euros."
      ],
      "metadata": {
        "id": "yDoOMPoxMdKj"
      }
    },
    {
      "cell_type": "code",
      "execution_count": null,
      "metadata": {
        "id": "bN6eZqpYMboD"
      },
      "outputs": [],
      "source": [
        "import pandas as pd\n",
        "import matplotlib.pyplot as plt\n",
        "import plotly.express as px\n",
        "df = pd.read_csv(\"/content/crowdfunding.csv\")\n",
        "df.head()"
      ]
    },
    {
      "cell_type": "markdown",
      "source": [
        "💪 Challenge\n",
        "\n",
        "Create a single visualization that the marketing manager can use to explore the data. Include:\n",
        "\n",
        "- What are the top three categories in terms of total donations?\n",
        "- What device type has historically provided the most contributions?\n",
        "-What age bracket should the campaign target"
      ],
      "metadata": {
        "id": "Mq8hS7DrNUup"
      }
    },
    {
      "cell_type": "code",
      "source": [
        "df.dtypes"
      ],
      "metadata": {
        "id": "tm3Bd348NsUe"
      },
      "execution_count": null,
      "outputs": []
    },
    {
      "cell_type": "code",
      "source": [
        "df.isnull().sum()"
      ],
      "metadata": {
        "id": "FKGg0BgZOUPD"
      },
      "execution_count": null,
      "outputs": []
    },
    {
      "cell_type": "code",
      "source": [
        "\n",
        "\n",
        "from plotly.subplots import make_subplots\n",
        "import plotly.graph_objects as go\n",
        "from plotly.offline import plot\n",
        "\n",
        "\n",
        "fig = make_subplots(rows=4, cols=3, specs=[[{\"type\": \"bar\"},{\"type\":\"table\"},{'type':'pie'}],\n",
        "                                           [{\"colspan\": 2},None,{\"type\":\"table\"}],\n",
        "                                           [{\"type\": \"bar\"},{\"type\":\"bar\"},{'type':'pie'}],\n",
        "                                           [{\"type\": \"table\"},{\"type\":\"table\"},{'type':'table'}]],\n",
        "                    subplot_titles=(\"Amount Contributed for each device type\", \"Amount contributed for each category by iOS Devices\",\n",
        "                                    \"Amount Contributed by each category by Android Devices\",\"Amount Contributed by each Category in Percentages\",\n",
        "                                    \"Table Showing Amount Contributed by each Category\",\"Amount contributed by Each Age Group with iOS Device\",\n",
        "                                    \"Amount contributed by Each Age Group with Android Device\",\"Total Amount Conrtibuted by Age Groups\",\n",
        "                                    \"Total Amount Conrtibuted by Age Groups with iOS Devices\",\"Total Amount Conrtibuted by Age Groups with Android Devices\",\n",
        "                                    \"Total Amount Contributed By age Groups\"))\n",
        "\n",
        "a=df.groupby('device').sum().reset_index()\n",
        "fig.add_trace(go.Bar(\n",
        "     y=a['amount'],\n",
        "     x=a['device'],\n",
        "     name=\"Device\"),\n",
        "     row=1, col=1)\n",
        "\n",
        "a=df.groupby(['device','category']).sum()\n",
        "a=pd.DataFrame(a)\n",
        "a.reset_index(inplace=True)\n",
        "android=a[a[\"device\"]==\"android\"]\n",
        "ios=a[a[\"device\"]==\"iOS\"]\n",
        "\n",
        "\n",
        "fig.add_trace(go.Pie(\n",
        "     values=ios['amount'],\n",
        "     labels=ios['category'],\n",
        "     name=\"iOS\"),\n",
        "     row=1, col=2)\n",
        "\n",
        "fig.add_trace(go.Pie(\n",
        "     values=android['amount'],\n",
        "     labels=android['category'],\n",
        "     name=\"Android\"),\n",
        "     row=1, col=3)\n",
        "\n",
        "\n",
        "\n",
        "a=df.groupby('category').sum().reset_index()\n",
        "a['percentage'] = round((a['amount']/a.amount.sum())*100,2)\n",
        "\n",
        "\n",
        "fig.add_trace(go.Scatter(\n",
        "     y=a['percentage'],\n",
        "     x=a['category'],\n",
        "     name=\"Category\"),\n",
        "    row=2, col=1)\n",
        "\n",
        "fig.add_trace(go.Table(header=dict(\n",
        "            values=[\"Category\",\"Amount\",\"Amount(%)\"],\n",
        "            font=dict(size=15),\n",
        "            align=\"left\"\n",
        "        ),cells=dict(\n",
        "            values=[a[k].tolist() for k in a.columns],font=dict(size=12),\n",
        "            align = \"left\",height=30)),row=2,col=3)\n",
        "\n",
        "a=df.groupby(['age','category','device']).sum().reset_index()\n",
        "iosdevices=a[a['device']=='iOS']\n",
        "\n",
        "fig.add_trace(go.Table(header=dict(\n",
        "            values=[\"Age\",\"Category\",\"Device\",\"Amount\"],\n",
        "            font=dict(size=15),\n",
        "            align=\"left\"\n",
        "        ),cells=dict(\n",
        "            values=[iosdevices[k].tolist() for k in a.columns],font=dict(size=12),\n",
        "            align = \"left\",height=30)),row=4,col=1)\n",
        "\n",
        "androiddevices=a[a['device']=='android']\n",
        "fig.add_trace(go.Table(header=dict(\n",
        "            values=[\"Age\",\"Category\",\"Device\",\"Amount\"],\n",
        "            font=dict(size=15),\n",
        "            align=\"left\"\n",
        "        ),cells=dict(\n",
        "            values=[androiddevices[k].tolist() for k in a.columns],font=dict(size=12),\n",
        "            align = \"left\",height=30)),row=4,col=2)\n",
        "bar1 = px.bar(iosdevices,x=\"age\",y=\"amount\",color='category')\n",
        "bar2 = px.bar(androiddevices,x=\"age\",y=\"amount\",color='category')\n",
        "a=df.groupby(['age']).sum().reset_index()\n",
        "\n",
        "\n",
        "for trace in bar1.data:\n",
        "    fig.add_trace(trace, 3, 1)\n",
        "for trace in bar2.data:\n",
        "    fig.add_trace(trace, 3, 2)\n",
        "\n",
        "fig.add_trace(go.Pie(\n",
        "     values=a['amount'],\n",
        "     labels=a['age'],\n",
        "     name=\"Age Group\"),\n",
        "     row=3, col=3)\n",
        "\n",
        "a=df.groupby(['age']).sum().reset_index()\n",
        "fig.add_trace(go.Table(header=dict(\n",
        "            values=[\"Age\",\"Amount\"],\n",
        "            font=dict(size=15),\n",
        "            align=\"left\"\n",
        "        ),cells=dict(\n",
        "            values=[a[k].tolist() for k in a.columns],font=dict(size=12),\n",
        "            align = \"left\",height=30)),row=4,col=3)\n",
        "\n",
        "\n",
        "fig.update_xaxes(title_text=\"Device Type\",row=1,col=1)\n",
        "fig.update_xaxes(title_text=\"Category\", showgrid=False, row=2, col=1)\n",
        "fig.update_xaxes(title_text=\"Age Group\", row=3, col=1)\n",
        "fig.update_xaxes(title_text=\"Age Group\", row=3, col=2)\n",
        "\n",
        "fig.update_yaxes(title_text=\"Amount Contributed\",row=1,col=1)\n",
        "fig.update_yaxes(title_text=\"Amount Contributed (%)\", showgrid=False, row=2, col=1)\n",
        "fig.update_yaxes(title_text=\"Amount Contributed\", row=3, col=1)\n",
        "fig.update_yaxes(title_text=\"Amount Contributed\", row=3, col=2)\n",
        "\n",
        "fig.update_layout(\n",
        "    margin=dict(l=30, r=20, t=40, b=30),\n",
        "    paper_bgcolor=\"LightSteelBlue\",\n",
        "    autosize=False,\n",
        "    width=1350,\n",
        "    height=1000,\n",
        "    hovermode='closest',\n",
        "    barmode='stack',\n",
        "    title_text=\"Visualization for next marketing campaign\",\n",
        "    title_x=0.5,font=dict(size=12)\n",
        ")\n",
        "fig.update_annotations(font_size=12)\n",
        "fig\n",
        ""
      ],
      "metadata": {
        "id": "NAthx7IiObii"
      },
      "execution_count": null,
      "outputs": []
    }
  ]
}